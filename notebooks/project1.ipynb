{
 "cells": [
  {
   "cell_type": "code",
   "execution_count": 47,
   "metadata": {
    "pycharm": {
     "name": "#%%\n"
    }
   },
   "outputs": [],
   "source": [
    "\"\"\"\n",
    "Project 1: Where are we in the Milky Way?\n",
    "Isaac Jaramillo\n",
    "September 4, 2022\n",
    "\"\"\"\n",
    "import pandas as pd\n",
    "import numpy as np\n",
    "import matplotlib.pyplot as plt"
   ]
  },
  {
   "cell_type": "code",
   "execution_count": 48,
   "metadata": {
    "pycharm": {
     "name": "#%%\n"
    }
   },
   "outputs": [],
   "source": [
    "# h distance from \"telescope\" to edge of galaxy\n",
    "# N is number of stars, we can treat this as volume\n",
    "# theta is angle from center of galaxy, we used arcmins of 3 so we have angle of 3/60 degrees\n",
    "\n",
    "def distance(N:int=0, theta:float=0.05) -> float:\n",
    "    h = (3*N/(np.pi*(np.tan(np.radians(theta))**2)))**(1/3)\n",
    "    return h\n",
    "\n",
    "def uncertanity(N:int=0) -> float:\n",
    "    sigma = np.sqrt(N)\n",
    "    return sigma\n",
    "\n",
    "def propofuncert(siga:float=0, sigb:float=0, N1:int = 0, N2:int = 0, theta:float=0.05) -> float:\n",
    "    deriveq1 = (3/(np.pi * np.tan(np.radians(theta))**2))**(1/3) * (1/(3*(N1)**(2/3)))\n",
    "    deriveq2 = (3/(np.pi * np.tan(np.radians(theta))**2))**(1/3) * (1/(3*(N2)**(2/3)))\n",
    "    sigtot = np.sqrt(siga**2 * (np.abs(deriveq1)**2) + sigb**2 * (np.abs(deriveq2)**2))\n",
    "    return sigtot"
   ]
  },
  {
   "cell_type": "code",
   "execution_count": 49,
   "metadata": {
    "pycharm": {
     "name": "#%%\n"
    }
   },
   "outputs": [
    {
     "name": "stdout",
     "output_type": "stream",
     "text": [
      "List of direction with distances:\n",
      "{60: 649.9902529894084, 75: 858.7286090839322, 90: 595.0158936695858, 105: 642.9898137329143, 120: 801.7508207489453, 135: 485.03446953090634, 150: 856.4553261550413, 165: 1106.7105174404408, 180: 1243.6569248899473, 195: 903.9211971708612, 210: 821.4218084109995, 225: 833.0270698323646, 240: 712.9483804742606, 255: 757.0376962728246, 270: 767.8231579510344, 285: 732.94044679505, 300: 773.4535930200531, 315: 824.5075691995497, 330: 746.6862725703809, 345: 740.6399645124745}\n",
      "\n",
      "Ratio of where we're at from Earth to the center of the Milky Way: 25.923039477048604\n",
      "\n",
      "Small uncertanity: 9.539392014169456\n",
      "Opposite uncertanity: 21.142374511865974\n",
      "Total uncertanity: 21.359596846548598\n",
      "Galatic radius: 654.7710193652281\n",
      "Error propagation: 3.2621475622509672\n"
     ]
    }
   ],
   "source": [
    "# get data from csv file\n",
    "csvloc = '../data/topcatdata.csv'\n",
    "df = pd.read_csv(csvloc)\n",
    "\n",
    "# Get each direction (RA), DEC doesn't change with RA so we can ignore it.\n",
    "direction = {}\n",
    "for RA, dfRA in df.groupby('RA'):\n",
    "    direction[RA] = dfRA\n",
    "\n",
    "# Get each distance (h) for each direction\n",
    "distancesdict = {}\n",
    "for RA in direction:\n",
    "    N = len(direction[RA])\n",
    "    distancesdict[RA] = distance(N)\n",
    "    \n",
    "# Calculate the uncertanity for only d1(h1) and d2(h2)\n",
    "Nsmall = len(direction[135])\n",
    "Nopposite = len(direction[315])\n",
    "\n",
    "uncertanitysmall = uncertanity(Nsmall)\n",
    "uncertanityopposite = uncertanity(Nopposite)\n",
    "    \n",
    "# Get the max value then get the the direction in the opposite direction (or get smallest value and get the direction 180 to it.)\n",
    "smallestdist = distancesdict[135]\n",
    "oppoistdist = distancesdict[315]\n",
    "\n",
    "galaticradius = (smallestdist + oppoistdist) / 2\n",
    "\n",
    "deltah = oppoistdist - galaticradius\n",
    "ratio = deltah/galaticradius * 100\n",
    "\n",
    "sigtot = propofuncert(uncertanitysmall, uncertanityopposite, Nsmall, Nopposite)\n",
    "\n",
    "errorprop = sigtot/galaticradius * 100\n",
    "\n",
    "print(f\"List of direction with distances:\\n{distancesdict}\\n\")\n",
    "print(f\"Ratio of where we're at from Earth to the center of the Milky Way: {ratio}\\n\")\n",
    "print(f\"Small uncertanity: {uncertanitysmall}\\nOpposite uncertanity: {uncertanityopposite}\")\n",
    "print(f\"Total uncertanity: {sigtot}\")\n",
    "print(f\"Galatic radius: {galaticradius}\")\n",
    "print(f\"Error propagation: {errorprop}\")"
   ]
  }
 ],
 "metadata": {
  "kernelspec": {
   "display_name": "Python 3.10.4 ('Astroproject1')",
   "language": "python",
   "name": "python3"
  },
  "language_info": {
   "codemirror_mode": {
    "name": "ipython",
    "version": 3
   },
   "file_extension": ".py",
   "mimetype": "text/x-python",
   "name": "python",
   "nbconvert_exporter": "python",
   "pygments_lexer": "ipython3",
   "version": "3.10.4"
  },
  "orig_nbformat": 4,
  "vscode": {
   "interpreter": {
    "hash": "ef95efeb60d50df633bc591b656639c3abbcbd6d5ec521f90c5c20ce73d55b7c"
   }
  }
 },
 "nbformat": 4,
 "nbformat_minor": 2
}
